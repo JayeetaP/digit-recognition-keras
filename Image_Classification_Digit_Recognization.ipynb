{
 "cells": [
  {
   "cell_type": "markdown",
   "metadata": {},
   "source": [
    "# Imports"
   ]
  },
  {
   "cell_type": "code",
   "execution_count": 173,
   "metadata": {},
   "outputs": [],
   "source": [
    "import os\n",
    "import numpy as np\n",
    "import pandas as pd\n",
    "import time\n",
    "from sklearn.model_selection import train_test_split\n",
    "from tensorflow import keras\n",
    "from tensorflow.keras.preprocessing import image\n",
    "from tensorflow.keras.preprocessing.image import ImageDataGenerator\n",
    "from tensorflow.keras.models import Sequential, load_model\n",
    "from tensorflow.keras.optimizers import RMSprop\n",
    "from tensorflow.keras.callbacks import ReduceLROnPlateau\n",
    "from tensorflow.keras.layers import Dense, Flatten, Conv2D, Dropout, MaxPool2D, AvgPool2D\n",
    "from tensorflow.keras.callbacks import CSVLogger, ModelCheckpoint, ReduceLROnPlateau, EarlyStopping\n",
    "import matplotlib.pyplot as plt\n",
    "import matplotlib.image as mpimg\n",
    "import seaborn as sns\n",
    "from sklearn.metrics import confusion_matrix\n",
    "from sklearn.metrics import classification_report\n",
    "import seaborn as sns\n",
    "import glob\n",
    "from IPython.display import Image\n",
    "%matplotlib inline"
   ]
  },
  {
   "cell_type": "markdown",
   "metadata": {},
   "source": [
    "# Data Preparation"
   ]
  },
  {
   "cell_type": "code",
   "execution_count": 174,
   "metadata": {},
   "outputs": [
    {
     "name": "stdout",
     "output_type": "stream",
     "text": [
      "Setup Complete\n"
     ]
    }
   ],
   "source": [
    "NUM_CLASSES = 10\n",
    "img_rows, img_cols = 28, 28\n",
    "PATH_TRAIN = \"../Image_Classification/digit-recognizer/dataset/train.csv\"\n",
    "PATH_TEST = \"../Image_Classification/digit-recognizer/dataset/test.csv\"\n",
    "\n",
    "def load_dataset(PATH_TRAIN, PATH_TEST):\n",
    "    \"\"\"\n",
    "    Args: \n",
    "        PATH_TRAIN - training file, PATH_TEST - testing file\n",
    "    Returns:\n",
    "      Train dataset, test dataset\n",
    "    \"\"\"\n",
    "    print(\"Loading training/testing dataset..\")\n",
    "    digit_train = np.loadtxt(PATH_TRAIN, skiprows=1, delimiter=',')\n",
    "    digit_test = np.loadtxt(PATH_TEST, skiprows=1, delimiter=',')\n",
    "    \n",
    "    print(\"Shape of train file = \", digit_train.shape)\n",
    "    print(\"Shape of test file = \", digit_test.shape)\n",
    "    \n",
    "    return digit_train, digit_test\n",
    "\n",
    "def input_train_datasets(digit_train):\n",
    "    \"\"\"\n",
    "    Args: \n",
    "        digit_train - training datset\n",
    "    Returns:\n",
    "      Reshaped Train dataset, eval dataset(10%)\n",
    "    \"\"\"\n",
    "    # input image dimensions with channels last\n",
    "    y = digit_train[:, 0]\n",
    "    print(\"Total number of records in train file = \", len(y))\n",
    "    out_y = keras.utils.to_categorical(y, NUM_CLASSES)\n",
    "    \n",
    "    x = digit_train[:,1:]\n",
    "    out_x = x.reshape(-1, img_rows, img_cols, 1)\n",
    "    out_x /= 255\n",
    "    print(\"Re-shaped train file = \", out_x.shape)\n",
    "    \n",
    "    # the data, split between train and test sets\n",
    "    x_train, x_val, y_train, y_val = train_test_split(out_x, out_y, test_size = 0.1, random_state=2)\n",
    "\n",
    "    return x_train, x_val, y_train, y_val\n",
    "\n",
    "def input_test_datasets(digit_test):\n",
    "    \"\"\"\n",
    "    Args: \n",
    "        digit_test - test datset\n",
    "    Returns:\n",
    "      Reshaped test dataset\n",
    "    \"\"\"\n",
    "    print(\"Total number of records in test file = \", len(digit_test))\n",
    "    test = digit_test / 255\n",
    "    test = test.reshape(-1,28,28,1)\n",
    "    print(\"Re-shaped test file = \", test.shape)\n",
    "    \n",
    "    return test\n",
    "\n",
    "print(\"Setup Complete\")"
   ]
  },
  {
   "cell_type": "markdown",
   "metadata": {},
   "source": [
    "# Model Building\n",
    "Creating a `Sequential` model named `digit_model`"
   ]
  },
  {
   "cell_type": "code",
   "execution_count": 175,
   "metadata": {
    "scrolled": false
   },
   "outputs": [
    {
     "name": "stdout",
     "output_type": "stream",
     "text": [
      "Loading training/testing dataset..\n",
      "Shape of train file =  (42000, 785)\n",
      "Shape of test file =  (28000, 784)\n",
      "Total number of records in train file =  42000\n",
      "Re-shaped train file =  (42000, 28, 28, 1)\n",
      "Fit augmented image generator on training data: x_train\n",
      "Train on 37800 samples, validate on 4200 samples\n",
      "Epoch 1/30\n",
      "37800/37800 [==============================] - 161s 4ms/sample - loss: 0.3938 - acc: 0.8757 - val_loss: 0.0942 - val_acc: 0.9707\n",
      "Epoch 2/30\n",
      "37800/37800 [==============================] - 154s 4ms/sample - loss: 0.1300 - acc: 0.9622 - val_loss: 0.0692 - val_acc: 0.9802\n",
      "Epoch 3/30\n",
      "37800/37800 [==============================] - 150s 4ms/sample - loss: 0.0905 - acc: 0.9731 - val_loss: 0.0778 - val_acc: 0.9769\n",
      "Epoch 4/30\n",
      "37800/37800 [==============================] - 149s 4ms/sample - loss: 0.0763 - acc: 0.9780 - val_loss: 0.0551 - val_acc: 0.9843\n",
      "Epoch 5/30\n",
      "37800/37800 [==============================] - 154s 4ms/sample - loss: 0.0638 - acc: 0.9813 - val_loss: 0.0460 - val_acc: 0.9864\n",
      "Epoch 6/30\n",
      "37800/37800 [==============================] - 156s 4ms/sample - loss: 0.0579 - acc: 0.9839 - val_loss: 0.0345 - val_acc: 0.9895\n",
      "Epoch 7/30\n",
      "37800/37800 [==============================] - 153s 4ms/sample - loss: 0.0538 - acc: 0.9840 - val_loss: 0.0385 - val_acc: 0.9898\n",
      "Epoch 8/30\n",
      "37800/37800 [==============================] - 156s 4ms/sample - loss: 0.0487 - acc: 0.9857 - val_loss: 0.0274 - val_acc: 0.9914\n",
      "Epoch 9/30\n",
      "37800/37800 [==============================] - 161s 4ms/sample - loss: 0.0469 - acc: 0.9869 - val_loss: 0.0353 - val_acc: 0.9902\n",
      "Epoch 10/30\n",
      "37800/37800 [==============================] - 171s 5ms/sample - loss: 0.0432 - acc: 0.9879 - val_loss: 0.0311 - val_acc: 0.9910\n",
      "Epoch 11/30\n",
      "37800/37800 [==============================] - 157s 4ms/sample - loss: 0.0417 - acc: 0.9879 - val_loss: 0.0290 - val_acc: 0.9936\n",
      "Epoch 12/30\n",
      "37800/37800 [==============================] - 165s 4ms/sample - loss: 0.0435 - acc: 0.9882 - val_loss: 0.0260 - val_acc: 0.9917\n",
      "Epoch 13/30\n",
      "37800/37800 [==============================] - 165s 4ms/sample - loss: 0.0396 - acc: 0.9887 - val_loss: 0.0243 - val_acc: 0.9914\n",
      "Epoch 14/30\n",
      "37740/37800 [============================>.] - ETA: 0s - loss: 0.0427 - acc: 0.9884\n",
      "Epoch 00014: ReduceLROnPlateau reducing learning rate to 0.0005000000237487257.\n",
      "37800/37800 [==============================] - 160s 4ms/sample - loss: 0.0428 - acc: 0.9884 - val_loss: 0.0303 - val_acc: 0.9929\n",
      "Epoch 15/30\n",
      "37800/37800 [==============================] - 175s 5ms/sample - loss: 0.0309 - acc: 0.9915 - val_loss: 0.0249 - val_acc: 0.9936\n",
      "Epoch 16/30\n",
      "37800/37800 [==============================] - 162s 4ms/sample - loss: 0.0281 - acc: 0.9920 - val_loss: 0.0329 - val_acc: 0.9921\n",
      "Epoch 17/30\n",
      "37740/37800 [============================>.] - ETA: 0s - loss: 0.0282 - acc: 0.9918\n",
      "Epoch 00017: ReduceLROnPlateau reducing learning rate to 0.0002500000118743628.\n",
      "37800/37800 [==============================] - 161s 4ms/sample - loss: 0.0282 - acc: 0.9918 - val_loss: 0.0266 - val_acc: 0.9931\n",
      "Epoch 18/30\n",
      "37800/37800 [==============================] - 169s 4ms/sample - loss: 0.0230 - acc: 0.9936 - val_loss: 0.0242 - val_acc: 0.9945\n",
      "Epoch 19/30\n",
      "37800/37800 [==============================] - 164s 4ms/sample - loss: 0.0230 - acc: 0.9933 - val_loss: 0.0218 - val_acc: 0.9938\n",
      "Epoch 20/30\n",
      "37800/37800 [==============================] - 164s 4ms/sample - loss: 0.0226 - acc: 0.9938 - val_loss: 0.0219 - val_acc: 0.9948\n",
      "Epoch 21/30\n",
      "37800/37800 [==============================] - 164s 4ms/sample - loss: 0.0222 - acc: 0.9936 - val_loss: 0.0237 - val_acc: 0.9938\n",
      "Epoch 22/30\n",
      "37800/37800 [==============================] - 158s 4ms/sample - loss: 0.0227 - acc: 0.9933 - val_loss: 0.0204 - val_acc: 0.9948\n",
      "Epoch 23/30\n",
      "37800/37800 [==============================] - 165s 4ms/sample - loss: 0.0210 - acc: 0.9946 - val_loss: 0.0204 - val_acc: 0.9950\n",
      "Epoch 24/30\n",
      "37800/37800 [==============================] - 159s 4ms/sample - loss: 0.0222 - acc: 0.9935 - val_loss: 0.0211 - val_acc: 0.9940\n",
      "Epoch 25/30\n",
      "37800/37800 [==============================] - 157s 4ms/sample - loss: 0.0201 - acc: 0.9942 - val_loss: 0.0216 - val_acc: 0.9950\n",
      "Epoch 26/30\n",
      "37740/37800 [============================>.] - ETA: 0s - loss: 0.0219 - acc: 0.9943\n",
      "Epoch 00026: ReduceLROnPlateau reducing learning rate to 0.0001250000059371814.\n",
      "37800/37800 [==============================] - 157s 4ms/sample - loss: 0.0219 - acc: 0.9943 - val_loss: 0.0217 - val_acc: 0.9940\n",
      "Epoch 27/30\n",
      "37800/37800 [==============================] - 156s 4ms/sample - loss: 0.0168 - acc: 0.9953 - val_loss: 0.0191 - val_acc: 0.9950\n",
      "Epoch 28/30\n",
      "37800/37800 [==============================] - 155s 4ms/sample - loss: 0.0179 - acc: 0.9946 - val_loss: 0.0183 - val_acc: 0.9952\n",
      "Epoch 29/30\n",
      "37800/37800 [==============================] - 155s 4ms/sample - loss: 0.0172 - acc: 0.9953 - val_loss: 0.0192 - val_acc: 0.9952\n",
      "Epoch 30/30\n",
      "37800/37800 [==============================] - 155s 4ms/sample - loss: 0.0195 - acc: 0.9947 - val_loss: 0.0207 - val_acc: 0.9945\n",
      "Time took to fit the training data: 4791.729877233505 secs\n"
     ]
    }
   ],
   "source": [
    "def create_model():\n",
    "    \"\"\"\n",
    "    Args: \n",
    "    Returns:\n",
    "      Built model\n",
    "    \"\"\"\n",
    "\n",
    "    digit_model = Sequential()\n",
    "    \n",
    "    #Add layers\n",
    "    digit_model.add(Conv2D(32, kernel_size=(5,5), activation = 'relu', padding = 'Same', input_shape = (img_rows, img_cols,1)))\n",
    "    digit_model.add(Conv2D(32, kernel_size=(5,5), activation = 'relu', padding = 'Same'))\n",
    "    digit_model.add(AvgPool2D(pool_size=(2,2)))\n",
    "    digit_model.add(Dropout(0.25))\n",
    "\n",
    "    digit_model.add(Conv2D(64, kernel_size=(3,3), activation = 'relu', padding = 'Same'))\n",
    "    digit_model.add(AvgPool2D(pool_size=(2,2)))\n",
    "    digit_model.add(Dropout(0.25))\n",
    "    \n",
    "    digit_model.add(Conv2D(64, kernel_size=(3,3), activation = 'relu', padding = 'Same'))\n",
    "    digit_model.add(AvgPool2D(pool_size=(2,2)))   \n",
    "    digit_model.add(Dropout(0.25))\n",
    "    \n",
    "    digit_model.add(Flatten())\n",
    "    digit_model.add(Dense(128, activation='relu'))\n",
    "    digit_model.add(Dropout(0.5))\n",
    "    digit_model.add(Dense(NUM_CLASSES, activation='softmax'))\n",
    "    \n",
    "    \n",
    "    #optimizer \n",
    "    optimizer = RMSprop(lr=0.001, rho=0.9, epsilon=1e-08, decay=0.0)\n",
    "    \n",
    "    #Complile Model\n",
    "    digit_model.compile(loss='categorical_crossentropy',\n",
    "                        optimizer = optimizer,\n",
    "                        metrics=['accuracy'])            \n",
    "    \n",
    "    return digit_model\n",
    "\n",
    "\n",
    "\n",
    "digit_train, digit_test = load_dataset(PATH_TRAIN,PATH_TEST)\n",
    "x_train, x_val, y_train, y_val = input_train_datasets(digit_train)\n",
    "\n",
    "digit_model=create_model()\n",
    "batch_size = 60\n",
    "epochs = 30\n",
    "\n",
    "#defining callback params\n",
    "csv_logger = CSVLogger('../Image_Classification/digit-recognizer/model/digit_train_hist.csv', append=True)\n",
    "early_stopping = EarlyStopping(monitor='val_loss', patience=7, verbose=1, mode='auto')\n",
    "mcp_save = ModelCheckpoint('../Image_Classification/digit-recognizer/model/digit_model_wts.hdf5', save_best_only=True, monitor='val_loss', mode='auto')\n",
    "learning_rate_reduction = ReduceLROnPlateau(monitor='val_acc',\n",
    "                                            patience=3, \n",
    "                                            verbose=1, \n",
    "                                            factor=0.5, \n",
    "                                            min_lr=0.00001)\n",
    "    \n",
    "\n",
    "datagen_train = ImageDataGenerator(width_shift_range=0.2,   \n",
    "                                    height_shift_range=0.2,\n",
    "                                    horizontal_flip=True)\n",
    "\n",
    "# fit augmented image generator on data\n",
    "print(\"Fitting augmented image generator on training data: x_train\")\n",
    "datagen_train.fit(x_train)\n",
    "\n",
    "t0=time.time()\n",
    "print(\"Starting to fit training data on built model..\")\n",
    "history = digit_model.fit(x_train, y_train,\n",
    "                    batch_size=batch_size,\n",
    "                    epochs=epochs,\n",
    "                    validation_data = (x_val, y_val),\n",
    "                    callbacks=[learning_rate_reduction, csv_logger])\n",
    "    \n",
    "t1=time.time()\n",
    "print(\"Time took to fit the training data: {} secs\".format(t1-t0))\n",
    "\n",
    "#save the history if need to plot metrics later\n",
    "# with open(\"../Image_Classification/digit-recognizer/model/ModelHistoryDict\", 'wb') as file:\n",
    "#     pickle.dump(history.history, file)\n",
    "# print(\"Saved history data\")\n",
    "\n",
    "#save model for later use\n",
    "digit_model.save('../Image_Classification/digit-recognizer/model/digit_model_test.model')\n",
    "\n"
   ]
  },
  {
   "cell_type": "code",
   "execution_count": 176,
   "metadata": {},
   "outputs": [
    {
     "name": "stdout",
     "output_type": "stream",
     "text": [
      "_________________________________________________________________\n",
      "Layer (type)                 Output Shape              Param #   \n",
      "=================================================================\n",
      "conv2d_73 (Conv2D)           (None, 28, 28, 32)        832       \n",
      "_________________________________________________________________\n",
      "conv2d_74 (Conv2D)           (None, 28, 28, 32)        25632     \n",
      "_________________________________________________________________\n",
      "average_pooling2d_54 (Averag (None, 14, 14, 32)        0         \n",
      "_________________________________________________________________\n",
      "dropout_56 (Dropout)         (None, 14, 14, 32)        0         \n",
      "_________________________________________________________________\n",
      "conv2d_75 (Conv2D)           (None, 14, 14, 64)        18496     \n",
      "_________________________________________________________________\n",
      "average_pooling2d_55 (Averag (None, 7, 7, 64)          0         \n",
      "_________________________________________________________________\n",
      "dropout_57 (Dropout)         (None, 7, 7, 64)          0         \n",
      "_________________________________________________________________\n",
      "conv2d_76 (Conv2D)           (None, 7, 7, 64)          36928     \n",
      "_________________________________________________________________\n",
      "average_pooling2d_56 (Averag (None, 3, 3, 64)          0         \n",
      "_________________________________________________________________\n",
      "dropout_58 (Dropout)         (None, 3, 3, 64)          0         \n",
      "_________________________________________________________________\n",
      "flatten_18 (Flatten)         (None, 576)               0         \n",
      "_________________________________________________________________\n",
      "dense_35 (Dense)             (None, 128)               73856     \n",
      "_________________________________________________________________\n",
      "dropout_59 (Dropout)         (None, 128)               0         \n",
      "_________________________________________________________________\n",
      "dense_36 (Dense)             (None, 10)                1290      \n",
      "=================================================================\n",
      "Total params: 157,034\n",
      "Trainable params: 157,034\n",
      "Non-trainable params: 0\n",
      "_________________________________________________________________\n"
     ]
    }
   ],
   "source": [
    "digit_model.summary()"
   ]
  },
  {
   "cell_type": "code",
   "execution_count": 238,
   "metadata": {},
   "outputs": [
    {
     "data": {
      "image/png": "[encoded data removed]",
      "text/plain": [
       "<Figure size 432x288 with 1 Axes>"
      ]
     },
     "metadata": {
      "needs_background": "light"
     },
     "output_type": "display_data"
    },
    {
     "data": {
      "image/png": "[encoded data removed]",
      "text/plain": [
       "<Figure size 432x288 with 1 Axes>"
      ]
     },
     "metadata": {
      "needs_background": "light"
     },
     "output_type": "display_data"
    }
   ],
   "source": [
    "# visualization loss function\n",
    "loss = digit_model.history.history['loss']\n",
    "val_loss = digit_model.history.history['val_loss']\n",
    "epochs = range(1, len(loss) + 1)\n",
    "plt.plot(epochs, loss, color='red', label='Training loss')\n",
    "plt.plot(epochs, val_loss, color='green', label='Validation loss')\n",
    "plt.title('Training and validation loss')\n",
    "plt.xlabel('Epochs')\n",
    "plt.ylabel('Loss')\n",
    "plt.legend()\n",
    "plt.show()\n",
    "\n",
    "# visualization accuracy scores\n",
    "acc = digit_model.history.history['acc']\n",
    "val_acc = digit_model.history.history['val_acc']\n",
    "plt.plot(epochs, acc, color='red', label='Training accuracy')\n",
    "plt.plot(epochs, val_acc, color='green', label='Validation accuracy')\n",
    "plt.title('Training and validation accuracy')\n",
    "plt.xlabel('Epochs')\n",
    "plt.ylabel('Loss')\n",
    "plt.legend()\n",
    "plt.show()"
   ]
  },
  {
   "cell_type": "code",
   "execution_count": 178,
   "metadata": {},
   "outputs": [
    {
     "name": "stdout",
     "output_type": "stream",
     "text": [
      "Predicted classes shape:  (4200,)\n",
      "True classes shape:  (4200,)\n"
     ]
    }
   ],
   "source": [
    "#predicting classes of x_val for model quality check\n",
    "Y_pred = digit_model.predict(x_val)\n",
    "Y_pred_classes = np.argmax(Y_pred, axis = 1) \n",
    "print(\"Predicted classes shape: \", Y_pred_classes.shape)\n",
    "Y_true = np.argmax(y_val, axis = 1) \n",
    "print(\"True classes shape: \", Y_true.shape)"
   ]
  },
  {
   "cell_type": "code",
   "execution_count": 179,
   "metadata": {},
   "outputs": [
    {
     "name": "stdout",
     "output_type": "stream",
     "text": [
      "              precision    recall  f1-score   support\n",
      "\n",
      "     Class 0       1.00      1.00      1.00       411\n",
      "     Class 1       1.00      1.00      1.00       485\n",
      "     Class 2       1.00      1.00      1.00       403\n",
      "     Class 3       1.00      0.99      1.00       418\n",
      "     Class 4       0.99      0.99      0.99       461\n",
      "     Class 5       1.00      0.99      0.99       372\n",
      "     Class 6       0.99      0.99      0.99       413\n",
      "     Class 7       1.00      1.00      1.00       446\n",
      "     Class 8       0.98      0.99      0.99       382\n",
      "     Class 9       0.99      1.00      0.99       409\n",
      "\n",
      "   micro avg       0.99      0.99      0.99      4200\n",
      "   macro avg       0.99      0.99      0.99      4200\n",
      "weighted avg       0.99      0.99      0.99      4200\n",
      "\n"
     ]
    }
   ],
   "source": [
    "# calculate classification metrics\n",
    "target_names = [\"Class {}\".format(i) for i in range(NUM_CLASSES)]\n",
    "metric_report = classification_report(Y_true, Y_pred_classes, target_names=target_names)\n",
    "print(metric_report)"
   ]
  },
  {
   "cell_type": "code",
   "execution_count": 180,
   "metadata": {},
   "outputs": [
    {
     "data": {
      "text/plain": [
       "<matplotlib.axes._subplots.AxesSubplot at 0x1a3258e898>"
      ]
     },
     "execution_count": 180,
     "metadata": {},
     "output_type": "execute_result"
    },
    {
     "data": {
      "image/png": "[encoded data removed]",
      "text/plain": [
       "<Figure size 720x576 with 2 Axes>"
      ]
     },
     "metadata": {
      "needs_background": "light"
     },
     "output_type": "display_data"
    }
   ],
   "source": [
    "# compute the confusion matrix\n",
    "confusion_mtx = confusion_matrix(Y_true, Y_pred_classes) \n",
    "\n",
    "plt.figure(figsize=(10,8))\n",
    "sns.heatmap(confusion_mtx, annot=True, fmt=\"d\")"
   ]
  },
  {
   "cell_type": "code",
   "execution_count": null,
   "metadata": {},
   "outputs": [],
   "source": []
  },
  {
   "cell_type": "code",
   "execution_count": 224,
   "metadata": {},
   "outputs": [
    {
     "data": {
      "image/png": "[encoded data removed]",
      "text/plain": [
       "<Figure size 432x288 with 1 Axes>"
      ]
     },
     "metadata": {
      "needs_background": "light"
     },
     "output_type": "display_data"
    }
   ],
   "source": [
    "# Loading a sample hand written test image\n",
    "from PIL import Image\n",
    "\n",
    "img = Image.open('../Image_Classification/digit-recognizer/adhoc_test_files/test1_8.jpg')\n",
    "img.thumbnail((64, 64), Image.ANTIALIAS)  # resizes image in-place\n",
    "imgplot = plt.imshow(img)"
   ]
  },
  {
   "cell_type": "code",
   "execution_count": 184,
   "metadata": {},
   "outputs": [
    {
     "data": {
      "text/html": [
       "<div>\n",
       "<style scoped>\n",
       "    .dataframe tbody tr th:only-of-type {\n",
       "        vertical-align: middle;\n",
       "    }\n",
       "\n",
       "    .dataframe tbody tr th {\n",
       "        vertical-align: top;\n",
       "    }\n",
       "\n",
       "    .dataframe thead th {\n",
       "        text-align: right;\n",
       "    }\n",
       "</style>\n",
       "<table border=\"1\" class=\"dataframe\">\n",
       "  <thead>\n",
       "    <tr style=\"text-align: right;\">\n",
       "      <th></th>\n",
       "      <th>Image_Name</th>\n",
       "    </tr>\n",
       "  </thead>\n",
       "  <tbody>\n",
       "    <tr>\n",
       "      <th>0</th>\n",
       "      <td>/Users/putatundaj/Desktop/Projects/Image_Class...</td>\n",
       "    </tr>\n",
       "    <tr>\n",
       "      <th>1</th>\n",
       "      <td>/Users/putatundaj/Desktop/Projects/Image_Class...</td>\n",
       "    </tr>\n",
       "    <tr>\n",
       "      <th>2</th>\n",
       "      <td>/Users/putatundaj/Desktop/Projects/Image_Class...</td>\n",
       "    </tr>\n",
       "  </tbody>\n",
       "</table>\n",
       "</div>"
      ],
      "text/plain": [
       "                                          Image_Name\n",
       "0  /Users/putatundaj/Desktop/Projects/Image_Class...\n",
       "1  /Users/putatundaj/Desktop/Projects/Image_Class...\n",
       "2  /Users/putatundaj/Desktop/Projects/Image_Class..."
      ]
     },
     "execution_count": 184,
     "metadata": {},
     "output_type": "execute_result"
    }
   ],
   "source": [
    "# Test random hanwritten image of 8 in different styles\n",
    "PATH_SMALL_TEST = \"../Image_Classification/digit-recognizer/adhoc_test_files/\"\n",
    "path = os.path.realpath(PATH_SMALL_TEST)\n",
    "fullpath = os.path.join(path, '*.jpg')\n",
    "files = glob.glob(fullpath)\n",
    "files = pd.DataFrame(files,columns=[\"Image_Name\"])\n",
    "files\n"
   ]
  },
  {
   "cell_type": "code",
   "execution_count": 243,
   "metadata": {},
   "outputs": [
    {
     "data": {
      "text/plain": [
       "<matplotlib.image.AxesImage at 0x1a48c426a0>"
      ]
     },
     "execution_count": 243,
     "metadata": {},
     "output_type": "execute_result"
    },
    {
     "data": {
      "image/png": "[encoded data removed]",
      "text/plain": [
       "<Figure size 432x288 with 4 Axes>"
      ]
     },
     "metadata": {
      "needs_background": "light"
     },
     "output_type": "display_data"
    }
   ],
   "source": [
    "img_all=[]\n",
    "for i in files[\"Image_Name\"]:\n",
    "    img1 = Image.open(i)\n",
    "    img1.thumbnail((100, 100)) \n",
    "    img_all.append(img1)\n",
    "    \n",
    "f, axarr = plt.subplots(2,2)\n",
    "\n",
    "axarr[0,0].imshow(img_all[0])\n",
    "axarr[0,1].imshow(img_all[1])\n",
    "axarr[1,0].imshow(img_all[2])\n",
    "axarr[1,1].imshow(img_all[2])\n"
   ]
  },
  {
   "cell_type": "code",
   "execution_count": 244,
   "metadata": {},
   "outputs": [
    {
     "name": "stdout",
     "output_type": "stream",
     "text": [
      "(28, 28, 1)\n",
      "Re-shaped of test image:  (1, 28, 28, 1)\n",
      "Predicted class of test image:  [8]\n",
      "\n",
      "\n",
      "(28, 28, 1)\n",
      "Re-shaped of test image:  (1, 28, 28, 1)\n",
      "Predicted class of test image:  [8]\n",
      "\n",
      "\n",
      "(28, 28, 1)\n",
      "Re-shaped of test image:  (1, 28, 28, 1)\n",
      "Predicted class of test image:  [8]\n",
      "\n",
      "\n"
     ]
    }
   ],
   "source": [
    "test_image = []\n",
    "for i in files['Image_Name']:\n",
    "    img = image.load_img(i, target_size=(28,28), color_mode = \"grayscale\")\n",
    "    img = image.img_to_array(img)\n",
    "    print(img.shape)\n",
    "    img/=255\n",
    "    img = img.reshape(-1, 28, 28, 1)\n",
    "    print(\"Re-shaped of test image: \",img.shape)\n",
    "    prediction = digit_model.predict_classes(img)\n",
    "    print(\"Predicted class of test image: \",prediction)\n",
    "    print(\"\\n\")"
   ]
  },
  {
   "cell_type": "code",
   "execution_count": 221,
   "metadata": {},
   "outputs": [
    {
     "name": "stdout",
     "output_type": "stream",
     "text": [
      "Evaluating and labelling test file...\n"
     ]
    }
   ],
   "source": [
    "# labeling the test file from kaggle\n",
    "x_test= input_test_datasets(digit_test)\n",
    "\n",
    "print(\"Evaluating and labeling test file...\")\n",
    "results = digit_model.predict(x_test)\n",
    "results = np.argmax(results,axis = 1)\n",
    "results = pd.Series(results,name=\"Label\")\n",
    "submission = pd.concat([pd.Series(range(1,len(results)+1),name = \"ImageId\"),results],axis = 1)"
   ]
  },
  {
   "cell_type": "code",
   "execution_count": 222,
   "metadata": {},
   "outputs": [],
   "source": [
    "#writing to a csv file\n",
    "submission.to_csv(\"submission_file_Digit_Sept25.csv\",index=False)"
   ]
  },
  {
   "cell_type": "code",
   "execution_count": null,
   "metadata": {},
   "outputs": [],
   "source": []
  }
 ],
 "metadata": {
  "kernelspec": {
   "display_name": "Python 3",
   "language": "python",
   "name": "python3"
  },
  "language_info": {
   "codemirror_mode": {
    "name": "ipython",
    "version": 3
   },
   "file_extension": ".py",
   "mimetype": "text/x-python",
   "name": "python",
   "nbconvert_exporter": "python",
   "pygments_lexer": "ipython3",
   "version": "3.7.3"
  }
 },
 "nbformat": 4,
 "nbformat_minor": 1
}
